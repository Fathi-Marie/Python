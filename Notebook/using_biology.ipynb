{
 "cells": [
  {
   "cell_type": "markdown",
   "id": "a023b3ed",
   "metadata": {},
   "source": [
    "# Notebook de présentation de la SAE S01.02"
   ]
  },
  {
   "cell_type": "markdown",
   "id": "47840237",
   "metadata": {},
   "source": [
    "## Binôme \n",
    "\n",
    "* Fathi Marie\n",
    "* Smaoune Oussama"
   ]
  },
  {
   "cell_type": "code",
   "execution_count": 32,
   "id": "10c0df23",
   "metadata": {},
   "outputs": [],
   "source": [
    "from json import *\n",
    "from biology import *"
   ]
  },
  {
   "cell_type": "code",
   "execution_count": 33,
   "id": "fa72eec7",
   "metadata": {},
   "outputs": [
    {
     "name": "stdout",
     "output_type": "stream",
     "text": [
      "ok\n"
     ]
    }
   ],
   "source": [
    "def verif_est_base():\n",
    "    assert est_base(\"A\")== True\n",
    "    assert est_base(\"Z\")== False\n",
    "    print(\"ok\")\n",
    "    \n",
    "verif_est_base()"
   ]
  },
  {
   "cell_type": "code",
   "execution_count": 34,
   "id": "5cf6044c",
   "metadata": {},
   "outputs": [
    {
     "name": "stdout",
     "output_type": "stream",
     "text": [
      "ok\n"
     ]
    }
   ],
   "source": [
    "def verif_est_adn():\n",
    "    assert est_adn(\"ATGTCAAA\")== True\n",
    "    assert est_adn(\"ATBOAATG\")== False\n",
    "    print(\"ok\")\n",
    "    \n",
    "verif_est_adn()    "
   ]
  },
  {
   "cell_type": "code",
   "execution_count": 35,
   "id": "9ecc8479",
   "metadata": {},
   "outputs": [
    {
     "name": "stdout",
     "output_type": "stream",
     "text": [
      "ok\n"
     ]
    }
   ],
   "source": [
    "def verif_arn_to_codons():\n",
    "    assert arn_to_codons(\"CGUUAGGGG\")==[\"CGU\", \"UAG\", \"GGG\"]\n",
    "    print(\"ok\")\n",
    "\n",
    "verif_arn_to_codons()"
   ]
  },
  {
   "cell_type": "code",
   "execution_count": 36,
   "id": "18b940ed",
   "metadata": {},
   "outputs": [
    {
     "name": "stdout",
     "output_type": "stream",
     "text": [
      "ok\n"
     ]
    }
   ],
   "source": [
    "def verif_codons_to_aa():\n",
    "    assert codons_to_aa([\"CGU\", \"AAU\", \"UAA\", \"GGG\", \"CGU\"],dico)==[\"Arginine\", \"Asparagine\"]\n",
    "    print(\"ok\")\n",
    "\n",
    "verif_codons_to_aa()"
   ]
  },
  {
   "cell_type": "code",
   "execution_count": 37,
   "id": "77c149f5",
   "metadata": {},
   "outputs": [
    {
     "name": "stdout",
     "output_type": "stream",
     "text": [
      "Ok\n"
     ]
    }
   ],
   "source": [
    "def verif_nextIndice():\n",
    "    tab=[\"bonjour\", \"hello\", \"buongiorno\", \"ciao\", \"bye\"]\n",
    "    assert nextIndice(tab,4,[\"hello\", \"be\"]) == 5\n",
    "    print(\"Ok\")\n",
    "    \n",
    "verif_nextIndice()"
   ]
  },
  {
   "cell_type": "code",
   "execution_count": 38,
   "id": "2fe82a6e",
   "metadata": {},
   "outputs": [
    {
     "name": "stdout",
     "output_type": "stream",
     "text": [
      "Ok\n"
     ]
    }
   ],
   "source": [
    "def verif_decoupe_sequence():\n",
    "    seq = [\"val1\", \"début\", \"val2\", \"val3\", \"end\", \"val4\", \"fin\", \"begin\", \"val5\", \"fin\", \"val6\"]\n",
    "    start = [\"début\", \"begin\"]\n",
    "    stop = [\"fin\", \"end\"]\n",
    "    assert decoupe_sequence(seq, start, stop) == [\n",
    "    [\"val2\", \"val3\"],\n",
    "    [\"val5\"]]\n",
    "    print(\"Ok\")\n",
    "\n",
    "verif_decoupe_sequence()\n",
    " "
   ]
  },
  {
   "cell_type": "code",
   "execution_count": 39,
   "id": "517b16eb",
   "metadata": {},
   "outputs": [
    {
     "name": "stdout",
     "output_type": "stream",
     "text": [
      "Ok\n"
     ]
    }
   ],
   "source": [
    "def verif_codons_to_seq_codantes():\n",
    "    codons=[\"CGU\", \"UUU\", \"AUG\", \"CGU\", \"AUG\", \"AAU\", \"UAA\", \"AUG\", \"GGG\", \"CCC\",  \"CGU\", \"UAG\", \"GGG\"] \n",
    "    assert codons_to_seq_codantes(codons,dico)==[['CGU', 'AUG', 'AAU'], ['GGG', 'CCC', 'CGU']]\n",
    "    print(\"Ok\")\n",
    "\n",
    "verif_codons_to_seq_codantes()"
   ]
  },
  {
   "cell_type": "code",
   "execution_count": 50,
   "id": "3b2890b0",
   "metadata": {},
   "outputs": [
    {
     "name": "stdout",
     "output_type": "stream",
     "text": [
      "Ok\n"
     ]
    }
   ],
   "source": [
    "def verif_seq():   \n",
    "    t =[['CGU', 'AUG', 'AAU'], ['GGG', 'CCC', 'CGU']]\n",
    "    assert seq_codantes_to_seq_aas(t,dico) == [['Arginine', 'Methionine', 'Asparagine'], ['Glycine', 'Proline', 'Arginine']]\n",
    "    print(\"Ok\")\n",
    "    \n",
    "verif_seq()"
   ]
  },
  {
   "cell_type": "code",
   "execution_count": 51,
   "id": "256e3d6c",
   "metadata": {},
   "outputs": [
    {
     "name": "stdout",
     "output_type": "stream",
     "text": [
      "Ok\n"
     ]
    }
   ],
   "source": [
    "def verif_adn_encode_molecule():\n",
    "    badn= \"CGTTTTATGCGTATGAATTAAATGGGGCCCCGTTAGGGG\"\n",
    "    molecule = [\"Glycine\", \"Proline\", \"Arginine\"]\n",
    "    assert adn_encode_molecule(badn,dico,molecule)== True\n",
    "    print(\"Ok\")\n",
    "    \n",
    "verif_adn_encode_molecule()  \n",
    "    "
   ]
  },
  {
   "cell_type": "code",
   "execution_count": null,
   "id": "8c1aeacb",
   "metadata": {},
   "outputs": [],
   "source": []
  }
 ],
 "metadata": {
  "kernelspec": {
   "display_name": "Python 3 (ipykernel)",
   "language": "python",
   "name": "python3"
  },
  "language_info": {
   "codemirror_mode": {
    "name": "ipython",
    "version": 3
   },
   "file_extension": ".py",
   "mimetype": "text/x-python",
   "name": "python",
   "nbconvert_exporter": "python",
   "pygments_lexer": "ipython3",
   "version": "3.9.7"
  }
 },
 "nbformat": 4,
 "nbformat_minor": 5
}
